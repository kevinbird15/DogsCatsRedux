{
 "cells": [
  {
   "cell_type": "code",
   "execution_count": 1,
   "metadata": {},
   "outputs": [
    {
     "name": "stderr",
     "output_type": "stream",
     "text": [
      "Using TensorFlow backend.\n"
     ]
    }
   ],
   "source": [
    "import keras\n",
    "from keras.models import Sequential, Model\n",
    "from keras.preprocessing import image\n",
    "from keras.applications.vgg16 import VGG16\n",
    "from keras.layers import Dense\n",
    "import pandas as pd\n",
    "batch_size = 32"
   ]
  },
  {
   "cell_type": "code",
   "execution_count": 2,
   "metadata": {},
   "outputs": [],
   "source": [
    "#path = \"sample/data/\"\n",
    "path = \"data/\""
   ]
  },
  {
   "cell_type": "code",
   "execution_count": 3,
   "metadata": {},
   "outputs": [
    {
     "name": "stdout",
     "output_type": "stream",
     "text": [
      "Found 22500 images belonging to 2 classes.\n",
      "Found 2500 images belonging to 2 classes.\n",
      "Found 12500 images belonging to 1 classes.\n"
     ]
    }
   ],
   "source": [
    "idg = image.ImageDataGenerator(rotation_range=0.1,horizontal_flip=True, channel_shift_range=0.2)\n",
    "idg_test = image.ImageDataGenerator()\n",
    "trn_batch = idg.flow_from_directory(path+\"train/\", target_size=(224,224), batch_size=batch_size, class_mode=\"binary\")\n",
    "val_batch = idg.flow_from_directory(path+\"valid/\", target_size=(224,224), batch_size=batch_size, class_mode=\"binary\")\n",
    "tst_batch = idg_test.flow_from_directory(path+\"test/\", target_size=(224,224), batch_size=batch_size)"
   ]
  },
  {
   "cell_type": "code",
   "execution_count": 5,
   "metadata": {},
   "outputs": [],
   "source": [
    "vgg16 = VGG16()\n",
    "vgg16.layers.pop()\n",
    "for layer in vgg16.layers:\n",
    "    layer.trainable = False \n",
    "m = Dense(4096, activation=\"relu\")(vgg16.layers[-1].output)\n",
    "m = Dense(1, activation=\"sigmoid\")(m)\n",
    "vgg16 = Model(vgg16.input, m)\n",
    "vgg16.compile(optimizer=\"adam\", loss=\"binary_crossentropy\", metrics=['accuracy'])"
   ]
  },
  {
   "cell_type": "code",
   "execution_count": 6,
   "metadata": {},
   "outputs": [
    {
     "name": "stdout",
     "output_type": "stream",
     "text": [
      "Epoch 1/5\n",
      "704/703 [==============================] - 123s - loss: 0.7807 - acc: 0.9455 - val_loss: 0.8522 - val_acc: 0.9444\n",
      "Epoch 2/5\n",
      "704/703 [==============================] - 120s - loss: 0.6008 - acc: 0.9607 - val_loss: 0.5921 - val_acc: 0.9612\n",
      "Epoch 3/5\n",
      "704/703 [==============================] - 121s - loss: 0.8235 - acc: 0.9476 - val_loss: 0.6711 - val_acc: 0.9572\n",
      "Epoch 4/5\n",
      "704/703 [==============================] - 121s - loss: 0.6755 - acc: 0.9572 - val_loss: 0.7665 - val_acc: 0.9516\n",
      "Epoch 5/5\n",
      "704/703 [==============================] - 123s - loss: 0.7345 - acc: 0.9537 - val_loss: 1.1522 - val_acc: 0.9268\n"
     ]
    },
    {
     "data": {
      "text/plain": [
       "<keras.callbacks.History at 0x7f85e5932940>"
      ]
     },
     "execution_count": 6,
     "metadata": {},
     "output_type": "execute_result"
    }
   ],
   "source": [
    "vgg16.fit_generator(trn_batch, steps_per_epoch=(trn_batch.n/batch_size), validation_data=val_batch, validation_steps=(val_batch.n/batch_size), epochs = 5)"
   ]
  },
  {
   "cell_type": "code",
   "execution_count": 18,
   "metadata": {},
   "outputs": [
    {
     "name": "stdout",
     "output_type": "stream",
     "text": [
      "Epoch 1/5\n",
      "704/703 [==============================] - 122s - loss: 0.6804 - acc: 0.9577 - val_loss: 0.6864 - val_acc: 0.9572\n",
      "Epoch 2/5\n",
      "704/703 [==============================] - 120s - loss: 0.6775 - acc: 0.9577 - val_loss: 0.6479 - val_acc: 0.9592\n",
      "Epoch 3/5\n",
      "704/703 [==============================] - 122s - loss: 0.6790 - acc: 0.9574 - val_loss: 0.8370 - val_acc: 0.9472\n",
      "Epoch 4/5\n",
      "704/703 [==============================] - 119s - loss: 0.9714 - acc: 0.9390 - val_loss: 1.0341 - val_acc: 0.9352\n",
      "Epoch 5/5\n",
      "704/703 [==============================] - 116s - loss: 0.9208 - acc: 0.9426 - val_loss: 0.7850 - val_acc: 0.9512\n"
     ]
    },
    {
     "data": {
      "text/plain": [
       "<keras.callbacks.History at 0x7f85e41fc400>"
      ]
     },
     "execution_count": 18,
     "metadata": {},
     "output_type": "execute_result"
    }
   ],
   "source": [
    "vgg16.fit_generator(trn_batch, steps_per_epoch=(trn_batch.n/batch_size), validation_data=val_batch, validation_steps=(val_batch.n/batch_size), epochs = 5)"
   ]
  },
  {
   "cell_type": "code",
   "execution_count": 7,
   "metadata": {},
   "outputs": [],
   "source": [
    "predictions = vgg16.predict_generator(tst_batch, steps=(tst_batch.n/batch_size))"
   ]
  },
  {
   "cell_type": "code",
   "execution_count": 13,
   "metadata": {},
   "outputs": [],
   "source": [
    "submission = pd.DataFrame(columns=['id','label'])"
   ]
  },
  {
   "cell_type": "code",
   "execution_count": 14,
   "metadata": {},
   "outputs": [
    {
     "data": {
      "text/plain": [
       "0.0"
      ]
     },
     "execution_count": 14,
     "metadata": {},
     "output_type": "execute_result"
    }
   ],
   "source": [
    "predictions[0][0]"
   ]
  },
  {
   "cell_type": "code",
   "execution_count": 15,
   "metadata": {},
   "outputs": [],
   "source": [
    "for i in range(0,len(predictions)):\n",
    "    pred_id = tst_batch.filenames[i].split(\"/\")[1].split(\".\")[0]\n",
    "    pred_label = predictions[i][0]\n",
    "    if pred_label > 0.98: \n",
    "        pred_label = 0.98\n",
    "    if pred_label < 0.02:\n",
    "        pred_label = 0.02\n",
    "    submission = submission.append({\"id\":pred_id, \"label\":pred_label}, ignore_index=True)"
   ]
  },
  {
   "cell_type": "code",
   "execution_count": 16,
   "metadata": {},
   "outputs": [],
   "source": [
    "submission.to_csv(\"Submission_Dog_Cat_Redux_17_10_14_02.csv\", index=False)"
   ]
  },
  {
   "cell_type": "code",
   "execution_count": null,
   "metadata": {},
   "outputs": [],
   "source": []
  }
 ],
 "metadata": {
  "kernelspec": {
   "display_name": "Python 3",
   "language": "python",
   "name": "python3"
  },
  "language_info": {
   "codemirror_mode": {
    "name": "ipython",
    "version": 3
   },
   "file_extension": ".py",
   "mimetype": "text/x-python",
   "name": "python",
   "nbconvert_exporter": "python",
   "pygments_lexer": "ipython3",
   "version": "3.5.2"
  }
 },
 "nbformat": 4,
 "nbformat_minor": 2
}
