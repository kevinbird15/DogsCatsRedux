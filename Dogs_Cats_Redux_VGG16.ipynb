{
 "cells": [
  {
   "cell_type": "code",
   "execution_count": 23,
   "metadata": {
    "scrolled": true
   },
   "outputs": [],
   "source": [
    "import keras\n",
    "from keras.models import Sequential, Model\n",
    "from keras.preprocessing import image\n",
    "from keras.applications.vgg16 import VGG16\n",
    "from keras.layers import Dense\n",
    "import pandas as pd\n",
    "batch_size = 32"
   ]
  },
  {
   "cell_type": "markdown",
   "metadata": {},
   "source": [
    "# Data Pull\n",
    "Data comes from ![Kaggle](https://www.kaggle.com/c/dogs-vs-cats-redux-kernels-edition/data)\n",
    "My file structure is as follows: \n",
    "```\n",
    "data/\n",
    "    test/\n",
    "        unk/\n",
    "            12500 cat/dog unkown pictures\n",
    "    train/\n",
    "        cat/\n",
    "            11250 cat pictures\n",
    "        dog/\n",
    "            11250 dog pictures\n",
    "    valid/\n",
    "        cat/\n",
    "            1250 cat pictures\n",
    "        dog/\n",
    "            1250 dog pictures\n",
    "sample/\n",
    "    data/\n",
    "        train/\n",
    "            cat/\n",
    "                1138 cat pictures\n",
    "            dog/\n",
    "                1138 dog pictures\n",
    "        valid/\n",
    "            cat/\n",
    "                112 cat pictures\n",
    "            dog/\n",
    "                112 dog pictures\n",
    "```"
   ]
  },
  {
   "cell_type": "code",
   "execution_count": 24,
   "metadata": {},
   "outputs": [],
   "source": [
    "#path = \"sample/data/\"\n",
    "path = \"data/\""
   ]
  },
  {
   "cell_type": "code",
   "execution_count": 25,
   "metadata": {},
   "outputs": [
    {
     "name": "stdout",
     "output_type": "stream",
     "text": [
      "Found 22500 images belonging to 2 classes.\n",
      "Found 2500 images belonging to 2 classes.\n",
      "Found 12500 images belonging to 1 classes.\n"
     ]
    }
   ],
   "source": [
    "idg = image.ImageDataGenerator(rotation_range=0.1,horizontal_flip=True, channel_shift_range=0.2)\n",
    "idg_test = image.ImageDataGenerator()\n",
    "trn_batch = idg.flow_from_directory(path+\"train/\", target_size=(224,224), batch_size=batch_size, class_mode=\"binary\")\n",
    "val_batch = idg.flow_from_directory(path+\"valid/\", target_size=(224,224), batch_size=batch_size, class_mode=\"binary\")\n",
    "tst_batch = idg_test.flow_from_directory(path+\"test/\", target_size=(224,224), batch_size=batch_size)"
   ]
  },
  {
   "cell_type": "code",
   "execution_count": 29,
   "metadata": {},
   "outputs": [],
   "source": [
    "#Use VGG16 from Keras\n",
    "vgg16 = VGG16()\n",
    "#Finetune to look at just two classes instead of 1000\n",
    "vgg16.layers.pop()\n",
    "for layer in vgg16.layers:\n",
    "    layer.trainable = False \n",
    "m = Dense(1, activation=\"sigmoid\")(vgg16.layers[-1].output)\n",
    "vgg16 = Model(vgg16.input, m)\n",
    "#Just guessing on the loss here\n",
    "vgg16.compile(optimizer=\"adam\", loss=\"binary_crossentropy\", metrics=['accuracy'])"
   ]
  },
  {
   "cell_type": "code",
   "execution_count": 30,
   "metadata": {},
   "outputs": [
    {
     "name": "stdout",
     "output_type": "stream",
     "text": [
      "Epoch 1/5\n",
      "704/703 [==============================] - 124s - loss: 0.0995 - acc: 0.9627 - val_loss: 0.1053 - val_acc: 0.9668\n",
      "Epoch 2/5\n",
      "704/703 [==============================] - 123s - loss: 0.0740 - acc: 0.9744 - val_loss: 0.1060 - val_acc: 0.9664\n",
      "Epoch 3/5\n",
      "704/703 [==============================] - 121s - loss: 0.0611 - acc: 0.9776 - val_loss: 0.1189 - val_acc: 0.9652\n",
      "Epoch 4/5\n",
      "704/703 [==============================] - 126s - loss: 0.0504 - acc: 0.9816 - val_loss: 0.1101 - val_acc: 0.9652\n",
      "Epoch 5/5\n",
      "704/703 [==============================] - 128s - loss: 0.0469 - acc: 0.9827 - val_loss: 0.0946 - val_acc: 0.9728\n"
     ]
    },
    {
     "data": {
      "text/plain": [
       "<keras.callbacks.History at 0x7f85e415b0f0>"
      ]
     },
     "execution_count": 30,
     "metadata": {},
     "output_type": "execute_result"
    }
   ],
   "source": [
    "vgg16.fit_generator(trn_batch, steps_per_epoch=(trn_batch.n/batch_size), validation_data=val_batch, validation_steps=(val_batch.n/batch_size), epochs = 5)"
   ]
  },
  {
   "cell_type": "code",
   "execution_count": 31,
   "metadata": {},
   "outputs": [],
   "source": [
    "predictions = vgg16.predict_generator(tst_batch, steps=(tst_batch.n/batch_size))"
   ]
  },
  {
   "cell_type": "code",
   "execution_count": 32,
   "metadata": {},
   "outputs": [],
   "source": [
    "submission = pd.DataFrame(columns=['id','label'])"
   ]
  },
  {
   "cell_type": "code",
   "execution_count": 33,
   "metadata": {},
   "outputs": [
    {
     "data": {
      "text/plain": [
       "6.9560963e-05"
      ]
     },
     "execution_count": 33,
     "metadata": {},
     "output_type": "execute_result"
    }
   ],
   "source": [
    "predictions[0][0]"
   ]
  },
  {
   "cell_type": "code",
   "execution_count": 34,
   "metadata": {},
   "outputs": [],
   "source": [
    "#trimming the extremes so nothing is predicting too strongly a 1 or a 0\n",
    "for i in range(0,len(predictions)):\n",
    "    pred_id = tst_batch.filenames[i].split(\"/\")[1].split(\".\")[0]\n",
    "    pred_label = predictions[i][0]\n",
    "    if pred_label > 0.98: \n",
    "        pred_label = 0.98\n",
    "    if pred_label < 0.02:\n",
    "        pred_label = 0.02\n",
    "    submission = submission.append({\"id\":pred_id, \"label\":pred_label}, ignore_index=True)"
   ]
  },
  {
   "cell_type": "code",
   "execution_count": 35,
   "metadata": {},
   "outputs": [],
   "source": [
    "submission.to_csv(\"Submission_Dog_Cat_Redux_17_10_18_02.csv\", index=False)"
   ]
  },
  {
   "cell_type": "code",
   "execution_count": null,
   "metadata": {},
   "outputs": [],
   "source": []
  }
 ],
 "metadata": {
  "kernelspec": {
   "display_name": "Python 3",
   "language": "python",
   "name": "python3"
  },
  "language_info": {
   "codemirror_mode": {
    "name": "ipython",
    "version": 3
   },
   "file_extension": ".py",
   "mimetype": "text/x-python",
   "name": "python",
   "nbconvert_exporter": "python",
   "pygments_lexer": "ipython3",
   "version": "3.5.2"
  }
 },
 "nbformat": 4,
 "nbformat_minor": 2
}
