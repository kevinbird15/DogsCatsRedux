{
 "cells": [
  {
   "cell_type": "code",
   "execution_count": 1,
   "metadata": {
    "scrolled": true
   },
   "outputs": [
    {
     "name": "stderr",
     "output_type": "stream",
     "text": [
      "Using TensorFlow backend.\n"
     ]
    }
   ],
   "source": [
    "import keras\n",
    "from keras.models import Sequential, Model\n",
    "from keras.preprocessing import image\n",
    "from keras.applications.vgg16 import VGG16\n",
    "from keras.layers import Dense\n",
    "import pandas as pd\n",
    "batch_size = 32"
   ]
  },
  {
   "cell_type": "markdown",
   "metadata": {},
   "source": [
    "# Data Pull\n",
    "Data comes from ![Kaggle](https://www.kaggle.com/c/dogs-vs-cats-redux-kernels-edition/data)\n",
    "My file structure is as follows: \n",
    "```\n",
    "data/\n",
    "    test/\n",
    "        unk/\n",
    "            12500 cat/dog unkown pictures\n",
    "    train/\n",
    "        cat/\n",
    "            11250 cat pictures\n",
    "        dog/\n",
    "            11250 dog pictures\n",
    "    valid/\n",
    "        cat/\n",
    "            1250 cat pictures\n",
    "        dog/\n",
    "            1250 dog pictures\n",
    "sample/\n",
    "    data/\n",
    "        train/\n",
    "            cat/\n",
    "                1138 cat pictures\n",
    "            dog/\n",
    "                1138 dog pictures\n",
    "        valid/\n",
    "            cat/\n",
    "                112 cat pictures\n",
    "            dog/\n",
    "                112 dog pictures\n",
    "```"
   ]
  },
  {
   "cell_type": "code",
   "execution_count": 2,
   "metadata": {},
   "outputs": [],
   "source": [
    "#path = \"sample/data/\"\n",
    "path = \"data/\""
   ]
  },
  {
   "cell_type": "code",
   "execution_count": 15,
   "metadata": {},
   "outputs": [
    {
     "name": "stdout",
     "output_type": "stream",
     "text": [
      "Found 22500 images belonging to 2 classes.\n",
      "Found 2500 images belonging to 2 classes.\n",
      "Found 12500 images belonging to 1 classes.\n"
     ]
    }
   ],
   "source": [
    "idg = image.ImageDataGenerator(rotation_range=0.1,horizontal_flip=True, channel_shift_range=0.2)\n",
    "idg_test = image.ImageDataGenerator()\n",
    "trn_batch = idg.flow_from_directory(path+\"train/\", target_size=(224,224), batch_size=batch_size, class_mode=\"binary\")\n",
    "val_batch = idg.flow_from_directory(path+\"valid/\", target_size=(224,224), batch_size=batch_size, class_mode=\"binary\")\n",
    "tst_batch = idg_test.flow_from_directory(path+\"test/\", target_size=(224,224), batch_size=batch_size, shuffle=False)"
   ]
  },
  {
   "cell_type": "code",
   "execution_count": 14,
   "metadata": {},
   "outputs": [],
   "source": [
    "??tst_batch"
   ]
  },
  {
   "cell_type": "code",
   "execution_count": 4,
   "metadata": {},
   "outputs": [],
   "source": [
    "#Use VGG16 from Keras\n",
    "vgg16 = VGG16()\n",
    "#Finetune to look at just two classes instead of 1000\n",
    "vgg16.layers.pop()\n",
    "for layer in vgg16.layers:\n",
    "    layer.trainable = False \n",
    "m = Dense(1, activation=\"sigmoid\")(vgg16.layers[-1].output)\n",
    "vgg16 = Model(vgg16.input, m)\n",
    "#Just guessing on the loss here\n",
    "vgg16.compile(optimizer=\"adam\", loss=\"binary_crossentropy\", metrics=['accuracy'])"
   ]
  },
  {
   "cell_type": "code",
   "execution_count": 5,
   "metadata": {},
   "outputs": [
    {
     "name": "stdout",
     "output_type": "stream",
     "text": [
      "Epoch 1/5\n",
      "704/703 [==============================] - 124s - loss: 0.1041 - acc: 0.9624 - val_loss: 0.0985 - val_acc: 0.9696\n",
      "Epoch 2/5\n",
      "704/703 [==============================] - 117s - loss: 0.0766 - acc: 0.9734 - val_loss: 0.1019 - val_acc: 0.9680\n",
      "Epoch 3/5\n",
      "704/703 [==============================] - 116s - loss: 0.0617 - acc: 0.9772 - val_loss: 0.0957 - val_acc: 0.9676\n",
      "Epoch 4/5\n",
      "704/703 [==============================] - 119s - loss: 0.0540 - acc: 0.9802 - val_loss: 0.1106 - val_acc: 0.9672\n",
      "Epoch 5/5\n",
      "704/703 [==============================] - 118s - loss: 0.0474 - acc: 0.9836 - val_loss: 0.0937 - val_acc: 0.9704\n"
     ]
    },
    {
     "data": {
      "text/plain": [
       "<keras.callbacks.History at 0x7f76354349b0>"
      ]
     },
     "execution_count": 5,
     "metadata": {},
     "output_type": "execute_result"
    }
   ],
   "source": [
    "vgg16.fit_generator(trn_batch, steps_per_epoch=(trn_batch.n/batch_size), validation_data=val_batch, validation_steps=(val_batch.n/batch_size), epochs = 5)"
   ]
  },
  {
   "cell_type": "code",
   "execution_count": 16,
   "metadata": {},
   "outputs": [],
   "source": [
    "predictions = vgg16.predict_generator(tst_batch, steps=(tst_batch.n/batch_size))"
   ]
  },
  {
   "cell_type": "code",
   "execution_count": 17,
   "metadata": {},
   "outputs": [],
   "source": [
    "submission = pd.DataFrame(columns=['id','label'])"
   ]
  },
  {
   "cell_type": "code",
   "execution_count": 18,
   "metadata": {},
   "outputs": [
    {
     "data": {
      "text/plain": [
       "0.52462566"
      ]
     },
     "execution_count": 18,
     "metadata": {},
     "output_type": "execute_result"
    }
   ],
   "source": [
    "predictions[0][0]"
   ]
  },
  {
   "cell_type": "code",
   "execution_count": 19,
   "metadata": {},
   "outputs": [],
   "source": [
    "#trimming the extremes so nothing is predicting too strongly a 1 or a 0\n",
    "for i in range(0,len(predictions)):\n",
    "    pred_id = tst_batch.filenames[i].split(\"/\")[1].split(\".\")[0]\n",
    "    pred_label = predictions[i][0]\n",
    "    if pred_label > 0.97: \n",
    "        pred_label = 0.97\n",
    "    if pred_label < 0.03:\n",
    "        pred_label = 0.03\n",
    "    submission = submission.append({\"id\":pred_id, \"label\":pred_label}, ignore_index=True)"
   ]
  },
  {
   "cell_type": "code",
   "execution_count": 20,
   "metadata": {},
   "outputs": [],
   "source": [
    "submission.to_csv(\"Submission_Dog_Cat_Redux_17_10_19_02.csv\", index=False)"
   ]
  },
  {
   "cell_type": "code",
   "execution_count": 21,
   "metadata": {},
   "outputs": [
    {
     "data": {
      "text/plain": [
       "'unk/8606.jpg'"
      ]
     },
     "execution_count": 21,
     "metadata": {},
     "output_type": "execute_result"
    }
   ],
   "source": [
    "tst_batch.filenames[0]"
   ]
  },
  {
   "cell_type": "code",
   "execution_count": 22,
   "metadata": {},
   "outputs": [
    {
     "data": {
      "text/plain": [
       "array([ 0.52462566], dtype=float32)"
      ]
     },
     "execution_count": 22,
     "metadata": {},
     "output_type": "execute_result"
    }
   ],
   "source": [
    "predictions[0]"
   ]
  },
  {
   "cell_type": "code",
   "execution_count": null,
   "metadata": {},
   "outputs": [],
   "source": []
  }
 ],
 "metadata": {
  "kernelspec": {
   "display_name": "Python 3",
   "language": "python",
   "name": "python3"
  },
  "language_info": {
   "codemirror_mode": {
    "name": "ipython",
    "version": 3
   },
   "file_extension": ".py",
   "mimetype": "text/x-python",
   "name": "python",
   "nbconvert_exporter": "python",
   "pygments_lexer": "ipython3",
   "version": "3.5.2"
  }
 },
 "nbformat": 4,
 "nbformat_minor": 2
}
