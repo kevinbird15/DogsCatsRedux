{
 "cells": [
  {
   "cell_type": "code",
   "execution_count": 1,
   "metadata": {
    "scrolled": true
   },
   "outputs": [
    {
     "name": "stderr",
     "output_type": "stream",
     "text": [
      "Using TensorFlow backend.\n"
     ]
    },
    {
     "name": "stdout",
     "output_type": "stream",
     "text": [
      "[name: \"/cpu:0\"\n",
      "device_type: \"CPU\"\n",
      "memory_limit: 268435456\n",
      "locality {\n",
      "}\n",
      "incarnation: 10728693825336462256\n",
      ", name: \"/gpu:0\"\n",
      "device_type: \"GPU\"\n",
      "memory_limit: 10573666714\n",
      "locality {\n",
      "  bus_id: 1\n",
      "}\n",
      "incarnation: 14098024529563471601\n",
      "physical_device_desc: \"device: 0, name: GeForce GTX 1080 Ti, pci bus id: 0000:01:00.0\"\n",
      "]\n"
     ]
    }
   ],
   "source": [
    "import keras\n",
    "from keras.models import Sequential, Model\n",
    "from keras.preprocessing import image\n",
    "from keras.applications.mobilenet import MobileNet\n",
    "from keras.applications.resnet50 import ResNet50\n",
    "from keras.applications.vgg16 import VGG16\n",
    "from keras.layers import Dense\n",
    "import pandas as pd\n",
    "batch_size = 32\n",
    "from tensorflow.python.client import device_lib\n",
    "print(device_lib.list_local_devices())"
   ]
  },
  {
   "cell_type": "markdown",
   "metadata": {},
   "source": [
    "# Data Pull\n",
    "Data comes from ![Kaggle](https://www.kaggle.com/c/dogs-vs-cats-redux-kernels-edition/data)\n",
    "My file structure is as follows: \n",
    "```\n",
    "data/\n",
    "    test/\n",
    "        unk/\n",
    "            12500 cat/dog unkown pictures\n",
    "    train/\n",
    "        cat/\n",
    "            11250 cat pictures\n",
    "        dog/\n",
    "            11250 dog pictures\n",
    "    valid/\n",
    "        cat/\n",
    "            1250 cat pictures\n",
    "        dog/\n",
    "            1250 dog pictures\n",
    "sample/\n",
    "    data/\n",
    "        train/\n",
    "            cat/\n",
    "                1138 cat pictures\n",
    "            dog/\n",
    "                1138 dog pictures\n",
    "        valid/\n",
    "            cat/\n",
    "                112 cat pictures\n",
    "            dog/\n",
    "                112 dog pictures\n",
    "```"
   ]
  },
  {
   "cell_type": "code",
   "execution_count": 2,
   "metadata": {},
   "outputs": [],
   "source": [
    "#path = \"sample/data/\"\n",
    "path = \"data/\""
   ]
  },
  {
   "cell_type": "code",
   "execution_count": 40,
   "metadata": {},
   "outputs": [
    {
     "name": "stdout",
     "output_type": "stream",
     "text": [
      "Found 22500 images belonging to 2 classes.\n",
      "Found 2500 images belonging to 2 classes.\n",
      "Found 12500 images belonging to 1 classes.\n",
      "Found 12500 images belonging to 1 classes.\n",
      "Found 12500 images belonging to 1 classes.\n"
     ]
    }
   ],
   "source": [
    "idg = image.ImageDataGenerator(rotation_range=0.1,horizontal_flip=True, channel_shift_range=0.2)\n",
    "idg_test = image.ImageDataGenerator()\n",
    "trn_batch = idg.flow_from_directory(path+\"train/\", target_size=(224,224), batch_size=batch_size, class_mode=\"binary\")\n",
    "val_batch = idg.flow_from_directory(path+\"valid/\", target_size=(224,224), batch_size=batch_size, class_mode=\"binary\")\n",
    "tst_batch1 = idg_test.flow_from_directory(path+\"test/\", target_size=(224,224), batch_size=batch_size, shuffle=False)\n",
    "tst_batch2 = idg_test.flow_from_directory(path+\"test/\", target_size=(224,224), batch_size=batch_size, shuffle=False)\n",
    "tst_batch3 = idg_test.flow_from_directory(path+\"test/\", target_size=(224,224), batch_size=batch_size, shuffle=False)"
   ]
  },
  {
   "cell_type": "code",
   "execution_count": 4,
   "metadata": {
    "scrolled": true
   },
   "outputs": [],
   "source": [
    "#Use MobileNet from Keras\n",
    "model1 = MobileNet()\n",
    "#Finetune to look at just two classes instead of 1000\n",
    "#model.layers.pop()\n",
    "for layer in model1.layers:\n",
    "    layer.trainable = False \n",
    "m = Dense(1, activation=\"sigmoid\")(model1.layers[-1].output)\n",
    "model1 = Model(model1.input, m)\n",
    "#Just guessing on the loss here\n",
    "model1.compile(optimizer=\"adam\", loss=\"binary_crossentropy\", metrics=['accuracy'])"
   ]
  },
  {
   "cell_type": "code",
   "execution_count": 5,
   "metadata": {},
   "outputs": [],
   "source": [
    "#Use ResNet50 from Keras\n",
    "model2 = ResNet50()\n",
    "#Finetune to look at just two classes instead of 1000\n",
    "model2.layers.pop()\n",
    "for layer in model2.layers:\n",
    "    layer.trainable = False \n",
    "m = Dense(1, activation=\"sigmoid\")(model2.layers[-1].output)\n",
    "model2 = Model(model2.input, m)\n",
    "#Just guessing on the loss here\n",
    "model2.compile(optimizer=\"adam\", loss=\"binary_crossentropy\", metrics=['accuracy'])"
   ]
  },
  {
   "cell_type": "code",
   "execution_count": 6,
   "metadata": {},
   "outputs": [],
   "source": [
    "#Use VGG16 from Keras\n",
    "model3 = VGG16()\n",
    "#Finetune to look at just two classes instead of 1000\n",
    "model3.layers.pop()\n",
    "for layer in model3.layers:\n",
    "    layer.trainable = False \n",
    "m = Dense(1, activation=\"sigmoid\")(model3.layers[-1].output)\n",
    "model3 = Model(model3.input, m)\n",
    "#Just guessing on the loss here\n",
    "model3.compile(optimizer=\"adam\", loss=\"binary_crossentropy\", metrics=['accuracy'])"
   ]
  },
  {
   "cell_type": "code",
   "execution_count": 7,
   "metadata": {},
   "outputs": [
    {
     "name": "stdout",
     "output_type": "stream",
     "text": [
      "Epoch 1/5\n",
      "704/703 [==============================] - 119s - loss: 0.6372 - acc: 0.8855 - val_loss: 0.5851 - val_acc: 0.9188\n",
      "Epoch 2/5\n",
      "704/703 [==============================] - 117s - loss: 0.5462 - acc: 0.9217 - val_loss: 0.5035 - val_acc: 0.9280\n",
      "Epoch 3/5\n",
      "704/703 [==============================] - 117s - loss: 0.4754 - acc: 0.9260 - val_loss: 0.4393 - val_acc: 0.9272\n",
      "Epoch 4/5\n",
      "704/703 [==============================] - 117s - loss: 0.4195 - acc: 0.9242 - val_loss: 0.3886 - val_acc: 0.9292\n",
      "Epoch 5/5\n",
      "704/703 [==============================] - 117s - loss: 0.3738 - acc: 0.9292 - val_loss: 0.3496 - val_acc: 0.9288\n",
      "Epoch 1/5\n",
      "704/703 [==============================] - 119s - loss: 0.1158 - acc: 0.9571 - val_loss: 0.0707 - val_acc: 0.9736\n",
      "Epoch 2/5\n",
      "704/703 [==============================] - 119s - loss: 0.0779 - acc: 0.9691 - val_loss: 0.0607 - val_acc: 0.9752\n",
      "Epoch 3/5\n",
      "704/703 [==============================] - 119s - loss: 0.0707 - acc: 0.9720 - val_loss: 0.0672 - val_acc: 0.9732\n",
      "Epoch 4/5\n",
      "704/703 [==============================] - 121s - loss: 0.0632 - acc: 0.9761 - val_loss: 0.0548 - val_acc: 0.9792\n",
      "Epoch 5/5\n",
      "704/703 [==============================] - 120s - loss: 0.0600 - acc: 0.9765 - val_loss: 0.0624 - val_acc: 0.9728\n",
      "Epoch 1/5\n",
      "704/703 [==============================] - 122s - loss: 0.1030 - acc: 0.9616 - val_loss: 0.0967 - val_acc: 0.9648\n",
      "Epoch 2/5\n",
      "704/703 [==============================] - 120s - loss: 0.0720 - acc: 0.9733 - val_loss: 0.1250 - val_acc: 0.9564\n",
      "Epoch 3/5\n",
      "704/703 [==============================] - 121s - loss: 0.0660 - acc: 0.9766 - val_loss: 0.1072 - val_acc: 0.9684\n",
      "Epoch 4/5\n",
      "704/703 [==============================] - 120s - loss: 0.0545 - acc: 0.9799 - val_loss: 0.0883 - val_acc: 0.9720\n",
      "Epoch 5/5\n",
      "704/703 [==============================] - 121s - loss: 0.0474 - acc: 0.9819 - val_loss: 0.1234 - val_acc: 0.9636\n"
     ]
    },
    {
     "data": {
      "text/plain": [
       "<keras.callbacks.History at 0x7f24ccd66c18>"
      ]
     },
     "execution_count": 7,
     "metadata": {},
     "output_type": "execute_result"
    }
   ],
   "source": [
    "model1.fit_generator(trn_batch, steps_per_epoch=(trn_batch.n/batch_size), validation_data=val_batch, validation_steps=(val_batch.n/batch_size), epochs = 5)\n",
    "model2.fit_generator(trn_batch, steps_per_epoch=(trn_batch.n/batch_size), validation_data=val_batch, validation_steps=(val_batch.n/batch_size), epochs = 5)\n",
    "model3.fit_generator(trn_batch, steps_per_epoch=(trn_batch.n/batch_size), validation_data=val_batch, validation_steps=(val_batch.n/batch_size), epochs = 5)"
   ]
  },
  {
   "cell_type": "code",
   "execution_count": 41,
   "metadata": {},
   "outputs": [],
   "source": [
    "predictions1 = model1.predict_generator(tst_batch1, steps=(tst_batch1.n/batch_size))\n",
    "predictions2 = model2.predict_generator(tst_batch2, steps=(tst_batch2.n/batch_size))\n",
    "predictions3 = model3.predict_generator(tst_batch3, steps=(tst_batch3.n/batch_size))"
   ]
  },
  {
   "cell_type": "code",
   "execution_count": 42,
   "metadata": {},
   "outputs": [
    {
     "data": {
      "text/plain": [
       "array([[ 0.00269621],\n",
       "       [ 0.49069789],\n",
       "       [ 0.02871103],\n",
       "       ..., \n",
       "       [ 0.99999058],\n",
       "       [ 0.93694067],\n",
       "       [ 0.83387566]], dtype=float32)"
      ]
     },
     "execution_count": 42,
     "metadata": {},
     "output_type": "execute_result"
    }
   ],
   "source": [
    "predictions2"
   ]
  },
  {
   "cell_type": "code",
   "execution_count": 43,
   "metadata": {},
   "outputs": [
    {
     "data": {
      "text/plain": [
       "array([[ 0.70064133],\n",
       "       [ 0.99949563],\n",
       "       [ 0.36763671],\n",
       "       ..., \n",
       "       [ 0.9999944 ],\n",
       "       [ 0.99345618],\n",
       "       [ 0.99994302]], dtype=float32)"
      ]
     },
     "execution_count": 43,
     "metadata": {},
     "output_type": "execute_result"
    }
   ],
   "source": [
    "predictions3"
   ]
  },
  {
   "cell_type": "code",
   "execution_count": 47,
   "metadata": {},
   "outputs": [],
   "source": [
    "submission = pd.DataFrame(columns=['id','label'])"
   ]
  },
  {
   "cell_type": "code",
   "execution_count": 48,
   "metadata": {},
   "outputs": [],
   "source": [
    "#trimming the extremes so nothing is predicting too strongly a 1 or a 0\n",
    "for i in range(0,len(predictions1)):\n",
    "    pred_id = tst_batch.filenames[i].split(\"/\")[1].split(\".\")[0]\n",
    "    pred_label = (predictions2[i][0]+predictions3[i][0])/2\n",
    "    #if pred_label > 0.5:\n",
    "    #    pred_label = 0.95\n",
    "    #if pred_label < 0.5:\n",
    "    #    pred_label = 0.05\n",
    "    #if pred_label == 0.5:\n",
    "    #    pred_label = 0.5\n",
    "    if pred_label > 0.97: \n",
    "        pred_label = 0.97\n",
    "    if pred_label < 0.03:\n",
    "        pred_label = 0.03\n",
    "    submission = submission.append({\"id\":pred_id, \"label\":pred_label}, ignore_index=True)"
   ]
  },
  {
   "cell_type": "code",
   "execution_count": 49,
   "metadata": {},
   "outputs": [],
   "source": [
    "submission.to_csv(\"Submission_Dog_Cat_Redux_2Ensemble_17_10_20_06.csv\", index=False)"
   ]
  },
  {
   "cell_type": "code",
   "execution_count": 21,
   "metadata": {},
   "outputs": [
    {
     "data": {
      "text/plain": [
       "'unk/8606.jpg'"
      ]
     },
     "execution_count": 21,
     "metadata": {},
     "output_type": "execute_result"
    }
   ],
   "source": [
    "tst_batch.filenames[0]"
   ]
  },
  {
   "cell_type": "code",
   "execution_count": 22,
   "metadata": {},
   "outputs": [
    {
     "data": {
      "text/plain": [
       "array([ 0.52462566], dtype=float32)"
      ]
     },
     "execution_count": 22,
     "metadata": {},
     "output_type": "execute_result"
    }
   ],
   "source": [
    "predictions[0]"
   ]
  },
  {
   "cell_type": "code",
   "execution_count": null,
   "metadata": {},
   "outputs": [],
   "source": []
  }
 ],
 "metadata": {
  "kernelspec": {
   "display_name": "Python 3",
   "language": "python",
   "name": "python3"
  },
  "language_info": {
   "codemirror_mode": {
    "name": "ipython",
    "version": 3
   },
   "file_extension": ".py",
   "mimetype": "text/x-python",
   "name": "python",
   "nbconvert_exporter": "python",
   "pygments_lexer": "ipython3",
   "version": "3.5.2"
  }
 },
 "nbformat": 4,
 "nbformat_minor": 2
}
